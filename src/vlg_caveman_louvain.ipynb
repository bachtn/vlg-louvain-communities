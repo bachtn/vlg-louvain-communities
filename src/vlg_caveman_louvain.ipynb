{
 "cells": [
  {
   "cell_type": "code",
   "execution_count": null,
   "metadata": {
    "collapsed": true
   },
   "outputs": [],
   "source": [
    "import numpy as np\n",
    "from mpl_toolkits.mplot3d import Axes3D\n",
    "import matplotlib.pyplot as plt\n",
    "\n",
    "with open('../results.txt') as f:\n",
    "    results = f.read().splitlines()\n",
    "data=[]\n",
    "for line in results:\n",
    "    data.append([float(s) for s in line.split()])\n",
    "data = np.asarray(data)\n",
    "\n",
    "\n",
    "fig = plt.figure()\n",
    "ax.scatter(data[:,0], data[:,1], data[:,2], c='b', marker='o', s=0.2)\n",
    "\n",
    "ax.set_xlabel('cave size')\n",
    "ax.set_ylabel('nbr caves')\n",
    "ax.set_zlabel('exec time')\n",
    "\n",
    "fig.savefig('caveman_louvain.eps', format='eps', dpi=1000)\n",
    "plt.show()"
   ]
  },
  {
   "cell_type": "code",
   "execution_count": null,
   "metadata": {
    "collapsed": true
   },
   "outputs": [],
   "source": []
  }
 ],
 "metadata": {
  "kernelspec": {
   "display_name": "Python 3",
   "language": "python",
   "name": "python3"
  },
  "language_info": {
   "codemirror_mode": {
    "name": "ipython",
    "version": 3
   },
   "file_extension": ".py",
   "mimetype": "text/x-python",
   "name": "python",
   "nbconvert_exporter": "python",
   "pygments_lexer": "ipython3",
   "version": "3.6.0"
  }
 },
 "nbformat": 4,
 "nbformat_minor": 2
}
